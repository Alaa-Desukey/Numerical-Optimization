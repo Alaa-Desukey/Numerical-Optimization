{
 "cells": [
  {
   "cell_type": "markdown",
   "metadata": {},
   "source": [
    "## Practical Work 2\n",
    "## Amira Adel Fouda - G2 AI"
   ]
  },
  {
   "cell_type": "markdown",
   "metadata": {},
   "source": [
    "For this practical work, the student will have to develop a Python program that is able to implement the gradient descent variants (Batch/Mini-Batch/Stochastic) in order to achieve the linear regression of a set of datapoints."
   ]
  },
  {
   "cell_type": "markdown",
   "metadata": {},
   "source": [
    "#### Import numpy, matplotlib.pyplot and make it inline"
   ]
  },
  {
   "cell_type": "code",
   "execution_count": 75,
   "metadata": {},
   "outputs": [],
   "source": [
    "import numpy as np\n",
    "import matplotlib.pyplot as plt\n",
    "import pandas as pd\n",
    "from sklearn.metrics import r2_score\n"
   ]
  },
  {
   "cell_type": "markdown",
   "metadata": {},
   "source": [
    "To have a dataset or set of data points, the student must generate a pair of arrays <b>X</b> and <b>y</b> with the values in <b>X</b> equally distributed between <b>0</b> and <b>20</b> and the values in <b>y</b> such that: \n",
    "<b>yi = a*xi + b (and a = -2, b = 1)</b>\n"
   ]
  },
  {
   "cell_type": "code",
   "execution_count": 76,
   "metadata": {},
   "outputs": [],
   "source": [
    "a = np.linspace(0,20)\n",
    "b =-2*a+1"
   ]
  },
  {
   "cell_type": "code",
   "execution_count": null,
   "metadata": {},
   "outputs": [],
   "source": []
  },
  {
   "cell_type": "code",
   "execution_count": 77,
   "metadata": {},
   "outputs": [
    {
     "data": {
      "text/html": [
       "<div>\n",
       "<style scoped>\n",
       "    .dataframe tbody tr th:only-of-type {\n",
       "        vertical-align: middle;\n",
       "    }\n",
       "\n",
       "    .dataframe tbody tr th {\n",
       "        vertical-align: top;\n",
       "    }\n",
       "\n",
       "    .dataframe thead th {\n",
       "        text-align: right;\n",
       "    }\n",
       "</style>\n",
       "<table border=\"1\" class=\"dataframe\">\n",
       "  <thead>\n",
       "    <tr style=\"text-align: right;\">\n",
       "      <th></th>\n",
       "      <th>x0</th>\n",
       "      <th>x1</th>\n",
       "      <th>y</th>\n",
       "    </tr>\n",
       "  </thead>\n",
       "  <tbody>\n",
       "    <tr>\n",
       "      <th>0</th>\n",
       "      <td>1</td>\n",
       "      <td>0.000000</td>\n",
       "      <td>1.000000</td>\n",
       "    </tr>\n",
       "    <tr>\n",
       "      <th>1</th>\n",
       "      <td>1</td>\n",
       "      <td>0.408163</td>\n",
       "      <td>0.183673</td>\n",
       "    </tr>\n",
       "    <tr>\n",
       "      <th>2</th>\n",
       "      <td>1</td>\n",
       "      <td>0.816327</td>\n",
       "      <td>-0.632653</td>\n",
       "    </tr>\n",
       "    <tr>\n",
       "      <th>3</th>\n",
       "      <td>1</td>\n",
       "      <td>1.224490</td>\n",
       "      <td>-1.448980</td>\n",
       "    </tr>\n",
       "    <tr>\n",
       "      <th>4</th>\n",
       "      <td>1</td>\n",
       "      <td>1.632653</td>\n",
       "      <td>-2.265306</td>\n",
       "    </tr>\n",
       "  </tbody>\n",
       "</table>\n",
       "</div>"
      ],
      "text/plain": [
       "   x0        x1         y\n",
       "0   1  0.000000  1.000000\n",
       "1   1  0.408163  0.183673\n",
       "2   1  0.816327 -0.632653\n",
       "3   1  1.224490 -1.448980\n",
       "4   1  1.632653 -2.265306"
      ]
     },
     "execution_count": 77,
     "metadata": {},
     "output_type": "execute_result"
    }
   ],
   "source": [
    "dict={'x0':1,'x1':a , 'y':b}\n",
    "df=pd.DataFrame(dict)\n",
    "df.head()"
   ]
  },
  {
   "cell_type": "markdown",
   "metadata": {},
   "source": [
    "#### Use your code from practical session 1 and create a function to perform GD for single variable linear regression.\n",
    "#### The function should take the following input parameters:\n",
    "##### Input data (X), Target Labels (y), Learning Rate (alpha), Maximum number of iterations\n",
    "#### The function should return the following:\n",
    "##### All Theta_0 and Theta_1 values till converge, and equivellant Losses, all hypothesis output, and optimum values of Theta_0 and Theta_1\n",
    "#### Note: you can choose any suitable stop criteria."
   ]
  },
  {
   "cell_type": "code",
   "execution_count": 103,
   "metadata": {},
   "outputs": [],
   "source": [
    "alpha = 0.001\n",
    "itera = 100\n",
    "theta = np.matrix(np.array([0,0]))\n"
   ]
  },
  {
   "cell_type": "code",
   "execution_count": 104,
   "metadata": {},
   "outputs": [],
   "source": [
    "col=df.shape[1]\n",
    "a=np.matrix(df.loc[:,['x0','x1']])\n",
    "b=np.matrix(df.loc[:,['y']])"
   ]
  },
  {
   "cell_type": "code",
   "execution_count": 105,
   "metadata": {},
   "outputs": [
    {
     "data": {
      "text/plain": [
       "matrix([[ 1.        ,  0.        ],\n",
       "        [ 1.        ,  0.40816327],\n",
       "        [ 1.        ,  0.81632653],\n",
       "        [ 1.        ,  1.2244898 ],\n",
       "        [ 1.        ,  1.63265306],\n",
       "        [ 1.        ,  2.04081633],\n",
       "        [ 1.        ,  2.44897959],\n",
       "        [ 1.        ,  2.85714286],\n",
       "        [ 1.        ,  3.26530612],\n",
       "        [ 1.        ,  3.67346939],\n",
       "        [ 1.        ,  4.08163265],\n",
       "        [ 1.        ,  4.48979592],\n",
       "        [ 1.        ,  4.89795918],\n",
       "        [ 1.        ,  5.30612245],\n",
       "        [ 1.        ,  5.71428571],\n",
       "        [ 1.        ,  6.12244898],\n",
       "        [ 1.        ,  6.53061224],\n",
       "        [ 1.        ,  6.93877551],\n",
       "        [ 1.        ,  7.34693878],\n",
       "        [ 1.        ,  7.75510204],\n",
       "        [ 1.        ,  8.16326531],\n",
       "        [ 1.        ,  8.57142857],\n",
       "        [ 1.        ,  8.97959184],\n",
       "        [ 1.        ,  9.3877551 ],\n",
       "        [ 1.        ,  9.79591837],\n",
       "        [ 1.        , 10.20408163],\n",
       "        [ 1.        , 10.6122449 ],\n",
       "        [ 1.        , 11.02040816],\n",
       "        [ 1.        , 11.42857143],\n",
       "        [ 1.        , 11.83673469],\n",
       "        [ 1.        , 12.24489796],\n",
       "        [ 1.        , 12.65306122],\n",
       "        [ 1.        , 13.06122449],\n",
       "        [ 1.        , 13.46938776],\n",
       "        [ 1.        , 13.87755102],\n",
       "        [ 1.        , 14.28571429],\n",
       "        [ 1.        , 14.69387755],\n",
       "        [ 1.        , 15.10204082],\n",
       "        [ 1.        , 15.51020408],\n",
       "        [ 1.        , 15.91836735],\n",
       "        [ 1.        , 16.32653061],\n",
       "        [ 1.        , 16.73469388],\n",
       "        [ 1.        , 17.14285714],\n",
       "        [ 1.        , 17.55102041],\n",
       "        [ 1.        , 17.95918367],\n",
       "        [ 1.        , 18.36734694],\n",
       "        [ 1.        , 18.7755102 ],\n",
       "        [ 1.        , 19.18367347],\n",
       "        [ 1.        , 19.59183673],\n",
       "        [ 1.        , 20.        ]])"
      ]
     },
     "execution_count": 105,
     "metadata": {},
     "output_type": "execute_result"
    }
   ],
   "source": [
    "a"
   ]
  },
  {
   "cell_type": "code",
   "execution_count": 106,
   "metadata": {},
   "outputs": [
    {
     "data": {
      "text/plain": [
       "matrix([[  1.        ],\n",
       "        [  0.18367347],\n",
       "        [ -0.63265306],\n",
       "        [ -1.44897959],\n",
       "        [ -2.26530612],\n",
       "        [ -3.08163265],\n",
       "        [ -3.89795918],\n",
       "        [ -4.71428571],\n",
       "        [ -5.53061224],\n",
       "        [ -6.34693878],\n",
       "        [ -7.16326531],\n",
       "        [ -7.97959184],\n",
       "        [ -8.79591837],\n",
       "        [ -9.6122449 ],\n",
       "        [-10.42857143],\n",
       "        [-11.24489796],\n",
       "        [-12.06122449],\n",
       "        [-12.87755102],\n",
       "        [-13.69387755],\n",
       "        [-14.51020408],\n",
       "        [-15.32653061],\n",
       "        [-16.14285714],\n",
       "        [-16.95918367],\n",
       "        [-17.7755102 ],\n",
       "        [-18.59183673],\n",
       "        [-19.40816327],\n",
       "        [-20.2244898 ],\n",
       "        [-21.04081633],\n",
       "        [-21.85714286],\n",
       "        [-22.67346939],\n",
       "        [-23.48979592],\n",
       "        [-24.30612245],\n",
       "        [-25.12244898],\n",
       "        [-25.93877551],\n",
       "        [-26.75510204],\n",
       "        [-27.57142857],\n",
       "        [-28.3877551 ],\n",
       "        [-29.20408163],\n",
       "        [-30.02040816],\n",
       "        [-30.83673469],\n",
       "        [-31.65306122],\n",
       "        [-32.46938776],\n",
       "        [-33.28571429],\n",
       "        [-34.10204082],\n",
       "        [-34.91836735],\n",
       "        [-35.73469388],\n",
       "        [-36.55102041],\n",
       "        [-37.36734694],\n",
       "        [-38.18367347],\n",
       "        [-39.        ]])"
      ]
     },
     "execution_count": 106,
     "metadata": {},
     "output_type": "execute_result"
    }
   ],
   "source": [
    "b"
   ]
  },
  {
   "cell_type": "code",
   "execution_count": 107,
   "metadata": {},
   "outputs": [],
   "source": [
    "noBatch=10"
   ]
  },
  {
   "cell_type": "code",
   "execution_count": 108,
   "metadata": {},
   "outputs": [],
   "source": [
    "def GDCostFunction(xc,yc,thetac):\n",
    "    error=np.power(np.linalg.norm(((xc @ thetac.T)- yc),ord=2),2)\n",
    "    mse=error/(2*len(xc))\n",
    "    return mse"
   ]
  },
  {
   "cell_type": "code",
   "execution_count": null,
   "metadata": {},
   "outputs": [],
   "source": []
  },
  {
   "cell_type": "code",
   "execution_count": 109,
   "metadata": {},
   "outputs": [],
   "source": [
    "def gradient(X,Y,Theta):\n",
    "    theta_parameters=int(Theta.ravel().shape[1]) \n",
    "    temp = np.matrix(np.zeros(theta.shape))\n",
    "    for j in range(theta_parameters):\n",
    "        error = (X*Theta.T) - Y              # (summation(h(xi) - y ) \n",
    "        t= np.multiply(error,X[:,j])         # (summation(h(xi) - y ) *xi\n",
    "        temp[:,j] = 1/len(X) * np.sum(t)\n",
    "    grad=temp\n",
    "    return grad"
   ]
  },
  {
   "cell_type": "markdown",
   "metadata": {},
   "source": [
    "#### Try your function with any input parameterss of your choice."
   ]
  },
  {
   "cell_type": "code",
   "execution_count": 110,
   "metadata": {},
   "outputs": [],
   "source": [
    "def mini_Batch_GD(x,y,theta,lr,iteration,noBatch):\n",
    "    \n",
    "    temp = np.matrix(np.zeros(theta.shape))\n",
    "    theta_parameters=int(theta.ravel().shape[1])\n",
    "    cost=[]\n",
    "    theta_0=[]\n",
    "    theta_1=[]\n",
    "    h=[]\n",
    "    batch_size=int(len(y)/ noBatch)\n",
    "    \n",
    "    for i in range(iteration):\n",
    "        for j in range(0,len(y),batch_size):  # step = batch_size\n",
    "            theta_0.append(theta[:,0])\n",
    "            theta_1.append(theta[:,1])\n",
    "            h.append(x * theta.T)\n",
    "            x_i=x[j:j+batch_size]    # x[0:10,:] then x[10:20 ,:] and so .., till end of observatios.\n",
    "            y_i=y[j:j+batch_size]    # y[0:10,:] then y[10:20 ,:] and so .., till end of observatios.\n",
    "            cost.append(GDCostFunction(x_i,y_i,theta))\n",
    "            temp = theta -lr * gradient(x_i,y_i,theta)\n",
    "            theta=temp\n",
    "            \n",
    "            \n",
    "    return theta,cost,theta_0,theta_1,h"
   ]
  },
  {
   "cell_type": "code",
   "execution_count": 111,
   "metadata": {},
   "outputs": [],
   "source": [
    "theta_mini,cost_mini,th_0,th_1,hypo_mini = mini_Batch_GD(a,b,theta,alpha,itera,noBatch)\n"
   ]
  },
  {
   "cell_type": "code",
   "execution_count": 112,
   "metadata": {},
   "outputs": [],
   "source": [
    "th_0 = np.array(th_0)\n",
    "th_0 = th_0.ravel()\n",
    "th_1 = np.array(th_1)\n",
    "th_1 = th_1.ravel()"
   ]
  },
  {
   "cell_type": "markdown",
   "metadata": {},
   "source": [
    "#### Calculate r2 score"
   ]
  },
  {
   "cell_type": "code",
   "execution_count": null,
   "metadata": {},
   "outputs": [],
   "source": []
  },
  {
   "cell_type": "code",
   "execution_count": null,
   "metadata": {},
   "outputs": [],
   "source": []
  },
  {
   "cell_type": "code",
   "execution_count": null,
   "metadata": {},
   "outputs": [],
   "source": []
  },
  {
   "cell_type": "markdown",
   "metadata": {},
   "source": [
    "#### Plot loss vs. epochs"
   ]
  },
  {
   "cell_type": "code",
   "execution_count": 113,
   "metadata": {},
   "outputs": [
    {
     "data": {
      "text/plain": [
       "Text(0, 0.5, 'Cost Value')"
      ]
     },
     "execution_count": 113,
     "metadata": {},
     "output_type": "execute_result"
    },
    {
     "data": {
      "image/png": "[encoded data removed]",
      "text/plain": [
       "<Figure size 432x288 with 1 Axes>"
      ]
     },
     "metadata": {
      "needs_background": "light"
     },
     "output_type": "display_data"
    }
   ],
   "source": [
    "fig,ax = plt.subplots()\n",
    "ax.plot(np.arange(len(cost_mini)), cost_mini ,'r')\n",
    "\n",
    "ax.set_xlabel('Iterations')\n",
    "ax.set_ylabel('Cost Value')"
   ]
  },
  {
   "cell_type": "code",
   "execution_count": null,
   "metadata": {
    "scrolled": false
   },
   "outputs": [],
   "source": []
  },
  {
   "cell_type": "markdown",
   "metadata": {},
   "source": [
    "#### Plot Theta_0 vs. loss and Theta_1 vs. loss"
   ]
  },
  {
   "cell_type": "code",
   "execution_count": 114,
   "metadata": {},
   "outputs": [
    {
     "data": {
      "text/plain": [
       "Text(0, 0.5, 'Cost Value')"
      ]
     },
     "execution_count": 114,
     "metadata": {},
     "output_type": "execute_result"
    },
    {
     "data": {
      "image/png": "[encoded data removed]",
      "text/plain": [
       "<Figure size 432x288 with 1 Axes>"
      ]
     },
     "metadata": {
      "needs_background": "light"
     },
     "output_type": "display_data"
    }
   ],
   "source": [
    "fig, ax = plt.subplots()\n",
    "ax.plot(th_1,cost_mini,color='r')\n",
    "\n",
    "ax.set_xlabel('theta 1')\n",
    "ax.set_ylabel('Cost Value')"
   ]
  },
  {
   "cell_type": "code",
   "execution_count": 115,
   "metadata": {},
   "outputs": [
    {
     "data": {
      "text/plain": [
       "Text(0, 0.5, 'Cost Value')"
      ]
     },
     "execution_count": 115,
     "metadata": {},
     "output_type": "execute_result"
    },
    {
     "data": {
      "image/png": "[encoded data removed]",
      "text/plain": [
       "<Figure size 432x288 with 1 Axes>"
      ]
     },
     "metadata": {
      "needs_background": "light"
     },
     "output_type": "display_data"
    }
   ],
   "source": [
    "fig, ax = plt.subplots()\n",
    "ax.plot(th_0,cost_mini,color='r')\n",
    "\n",
    "ax.set_xlabel('theta 0')\n",
    "ax.set_ylabel('Cost Value')"
   ]
  },
  {
   "cell_type": "code",
   "execution_count": null,
   "metadata": {},
   "outputs": [],
   "source": []
  },
  {
   "cell_type": "markdown",
   "metadata": {},
   "source": [
    "#### Plot all regression lines till converge"
   ]
  },
  {
   "cell_type": "code",
   "execution_count": null,
   "metadata": {},
   "outputs": [],
   "source": []
  },
  {
   "cell_type": "code",
   "execution_count": 116,
   "metadata": {},
   "outputs": [
    {
     "data": {
      "image/png": "[encoded data removed]",
      "text/plain": [
       "<Figure size 432x288 with 1 Axes>"
      ]
     },
     "metadata": {
      "needs_background": "light"
     },
     "output_type": "display_data"
    }
   ],
   "source": [
    "plt.scatter(df.x1,df.y)\n",
    "for i in  hypo_mini:\n",
    "    plt.plot(df.x1,i)"
   ]
  },
  {
   "cell_type": "markdown",
   "metadata": {},
   "source": [
    "#### Plot the best regression line"
   ]
  },
  {
   "cell_type": "code",
   "execution_count": 117,
   "metadata": {},
   "outputs": [
    {
     "data": {
      "text/plain": [
       "Text(0, 0.5, 'y1- data')"
      ]
     },
     "execution_count": 117,
     "metadata": {},
     "output_type": "execute_result"
    },
    {
     "data": {
      "image/png": "[encoded data removed]",
      "text/plain": [
       "<Figure size 432x288 with 1 Axes>"
      ]
     },
     "metadata": {
      "needs_background": "light"
     },
     "output_type": "display_data"
    }
   ],
   "source": [
    "y_hat=theta_mini[0,0] + theta_mini[0,1]*df.x1\n",
    "fig ,ax =plt.subplots()\n",
    "ax.plot(df.x1 , y_hat , 'r', label='predicted data')\n",
    "ax.scatter(df.x1 , df.y, label='training data')\n",
    "ax.legend(loc=2)\n",
    "ax.set_xlabel('x1-input data')\n",
    "ax.set_ylabel('y1- data')\n"
   ]
  },
  {
   "cell_type": "code",
   "execution_count": 118,
   "metadata": {},
   "outputs": [
    {
     "data": {
      "text/plain": [
       "99.84207782244299"
      ]
     },
     "execution_count": 118,
     "metadata": {},
     "output_type": "execute_result"
    }
   ],
   "source": [
    "r2_score(df.y , y_hat) * 100"
   ]
  },
  {
   "cell_type": "markdown",
   "metadata": {},
   "source": [
    "#### Try different learning rate and number of iterations then plot loss vs. epochs, loss vs. Theat_0 and Theta_1\n",
    "#### all regression lines till converge, and the best regression line\n",
    "#### and see the difference in output."
   ]
  },
  {
   "cell_type": "code",
   "execution_count": null,
   "metadata": {},
   "outputs": [],
   "source": []
  },
  {
   "cell_type": "code",
   "execution_count": null,
   "metadata": {},
   "outputs": [],
   "source": []
  },
  {
   "cell_type": "code",
   "execution_count": null,
   "metadata": {},
   "outputs": [],
   "source": []
  },
  {
   "cell_type": "code",
   "execution_count": null,
   "metadata": {},
   "outputs": [],
   "source": []
  },
  {
   "cell_type": "code",
   "execution_count": null,
   "metadata": {},
   "outputs": [],
   "source": []
  },
  {
   "cell_type": "code",
   "execution_count": null,
   "metadata": {},
   "outputs": [],
   "source": []
  },
  {
   "cell_type": "code",
   "execution_count": null,
   "metadata": {},
   "outputs": [],
   "source": []
  },
  {
   "cell_type": "code",
   "execution_count": null,
   "metadata": {},
   "outputs": [],
   "source": []
  },
  {
   "cell_type": "code",
   "execution_count": null,
   "metadata": {},
   "outputs": [],
   "source": []
  },
  {
   "cell_type": "code",
   "execution_count": null,
   "metadata": {},
   "outputs": [],
   "source": []
  },
  {
   "cell_type": "code",
   "execution_count": null,
   "metadata": {},
   "outputs": [],
   "source": []
  },
  {
   "cell_type": "code",
   "execution_count": null,
   "metadata": {},
   "outputs": [],
   "source": []
  },
  {
   "cell_type": "markdown",
   "metadata": {},
   "source": [
    "#### Update the implementation of the Batch GD to be Mini-Batch and repeat the above plots and evaluations\n",
    "#### Change batch size and see the effect\n",
    "### Note: Try once without shuffling the data and once with shuffle and see the effect on the output."
   ]
  },
  {
   "cell_type": "code",
   "execution_count": 119,
   "metadata": {},
   "outputs": [
    {
     "data": {
      "text/html": [
       "<div>\n",
       "<style scoped>\n",
       "    .dataframe tbody tr th:only-of-type {\n",
       "        vertical-align: middle;\n",
       "    }\n",
       "\n",
       "    .dataframe tbody tr th {\n",
       "        vertical-align: top;\n",
       "    }\n",
       "\n",
       "    .dataframe thead th {\n",
       "        text-align: right;\n",
       "    }\n",
       "</style>\n",
       "<table border=\"1\" class=\"dataframe\">\n",
       "  <thead>\n",
       "    <tr style=\"text-align: right;\">\n",
       "      <th></th>\n",
       "      <th>x0</th>\n",
       "      <th>x1</th>\n",
       "      <th>y</th>\n",
       "    </tr>\n",
       "  </thead>\n",
       "  <tbody>\n",
       "    <tr>\n",
       "      <th>45</th>\n",
       "      <td>1</td>\n",
       "      <td>18.367347</td>\n",
       "      <td>-35.734694</td>\n",
       "    </tr>\n",
       "    <tr>\n",
       "      <th>17</th>\n",
       "      <td>1</td>\n",
       "      <td>6.938776</td>\n",
       "      <td>-12.877551</td>\n",
       "    </tr>\n",
       "    <tr>\n",
       "      <th>25</th>\n",
       "      <td>1</td>\n",
       "      <td>10.204082</td>\n",
       "      <td>-19.408163</td>\n",
       "    </tr>\n",
       "    <tr>\n",
       "      <th>20</th>\n",
       "      <td>1</td>\n",
       "      <td>8.163265</td>\n",
       "      <td>-15.326531</td>\n",
       "    </tr>\n",
       "    <tr>\n",
       "      <th>30</th>\n",
       "      <td>1</td>\n",
       "      <td>12.244898</td>\n",
       "      <td>-23.489796</td>\n",
       "    </tr>\n",
       "  </tbody>\n",
       "</table>\n",
       "</div>"
      ],
      "text/plain": [
       "    x0         x1          y\n",
       "45   1  18.367347 -35.734694\n",
       "17   1   6.938776 -12.877551\n",
       "25   1  10.204082 -19.408163\n",
       "20   1   8.163265 -15.326531\n",
       "30   1  12.244898 -23.489796"
      ]
     },
     "execution_count": 119,
     "metadata": {},
     "output_type": "execute_result"
    }
   ],
   "source": [
    "df_sh = pd.DataFrame(dict)\n",
    "df_sh = df_sh.sample(frac=1)\n",
    "df_sh.head()"
   ]
  },
  {
   "cell_type": "code",
   "execution_count": 120,
   "metadata": {},
   "outputs": [],
   "source": [
    "col=df.shape[1]\n",
    "n =np.matrix(df_sh.loc[:,['x0','x1']])\n",
    "m =np.matrix(df_sh.loc[:,['y']])\n"
   ]
  },
  {
   "cell_type": "code",
   "execution_count": 121,
   "metadata": {},
   "outputs": [],
   "source": [
    "def GDCostFunction(xc,yc,thetac):\n",
    "    error=np.power(np.linalg.norm(((xc @ thetac.T)- yc),ord=2),2)\n",
    "    mse=error/(2*len(xc))\n",
    "    return mse\n",
    "    "
   ]
  },
  {
   "cell_type": "code",
   "execution_count": 122,
   "metadata": {},
   "outputs": [],
   "source": [
    "def gradient(X,Y,Theta):\n",
    "    theta_parameters=int(Theta.ravel().shape[1]) \n",
    "    temp = np.matrix(np.zeros(theta.shape))\n",
    "    for j in range(theta_parameters):\n",
    "        error = (X*Theta.T) - Y              # (summation(h(xi) - y ) \n",
    "        t= np.multiply(error,X[:,j])         # (summation(h(xi) - y ) *xi\n",
    "        temp[:,j] = 1/len(X) * np.sum(t)\n",
    "    grad=temp\n",
    "    return grad\n",
    "\n"
   ]
  },
  {
   "cell_type": "code",
   "execution_count": 123,
   "metadata": {},
   "outputs": [],
   "source": [
    "def mini_Batch_GD(x,y,theta,lr,iteration,noBatch):\n",
    "    \n",
    "    temp = np.matrix(np.zeros(theta.shape))\n",
    "    theta_parameters=int(theta.ravel().shape[1])\n",
    "    cost=[]\n",
    "    theta_0=[]\n",
    "    theta_1=[]\n",
    "    h=[]\n",
    "    batch_size=int(len(y)/ noBatch)\n",
    "    \n",
    "    for i in range(iteration):\n",
    "        for j in range(0,len(y),batch_size):  # step = batch_size\n",
    "            theta_0.append(theta[:,0])\n",
    "            theta_1.append(theta[:,1])\n",
    "            h.append(x * theta.T)\n",
    "            x_i=x[j:j+batch_size]    # x[0:10,:] then x[10:20 ,:] and so .., till end of observatios.\n",
    "            y_i=y[j:j+batch_size]    # y[0:10,:] then y[10:20 ,:] and so .., till end of observatios.\n",
    "            cost.append(GDCostFunction(x_i,y_i,theta))\n",
    "            temp = theta -lr * gradient(x_i,y_i,theta)\n",
    "            theta=temp\n",
    "            \n",
    "            \n",
    "    return theta,cost,theta_0,theta_1,h"
   ]
  },
  {
   "cell_type": "code",
   "execution_count": 124,
   "metadata": {},
   "outputs": [],
   "source": [
    "th_op_sh,cost_sh,th0_sh,th1_sh,hypo_sh = mini_Batch_GD(n,m,theta,alpha,itera,noBatch)"
   ]
  },
  {
   "cell_type": "code",
   "execution_count": 125,
   "metadata": {},
   "outputs": [],
   "source": [
    "th0_sh=np.array(th0_sh)\n",
    "th0_sh=th0_sh.ravel()\n",
    "th1_sh=np.array(th1_sh)\n",
    "th1_sh=th1_sh.ravel()"
   ]
  },
  {
   "cell_type": "code",
   "execution_count": 126,
   "metadata": {},
   "outputs": [
    {
     "data": {
      "text/plain": [
       "Text(0, 0.5, 'Cost Value')"
      ]
     },
     "execution_count": 126,
     "metadata": {},
     "output_type": "execute_result"
    },
    {
     "data": {
      "image/png": "[encoded data removed]",
      "text/plain": [
       "<Figure size 432x288 with 1 Axes>"
      ]
     },
     "metadata": {
      "needs_background": "light"
     },
     "output_type": "display_data"
    }
   ],
   "source": [
    "fig,ax = plt.subplots()\n",
    "ax.plot(np.arange(len(cost_sh)), cost_sh ,'r')\n",
    "\n",
    "ax.set_xlabel('Iterations')\n",
    "ax.set_ylabel('Cost Value')"
   ]
  },
  {
   "cell_type": "code",
   "execution_count": 127,
   "metadata": {},
   "outputs": [
    {
     "data": {
      "text/plain": [
       "Text(0, 0.5, 'y1- data')"
      ]
     },
     "execution_count": 127,
     "metadata": {},
     "output_type": "execute_result"
    },
    {
     "data": {
      "image/png": "[encoded data removed]",
      "text/plain": [
       "<Figure size 432x288 with 1 Axes>"
      ]
     },
     "metadata": {
      "needs_background": "light"
     },
     "output_type": "display_data"
    }
   ],
   "source": [
    "y_hat=th_op_sh[0,0] + th_op_sh[0,1]*df.x1\n",
    "fig ,ax =plt.subplots()\n",
    "ax.plot(df.x1 , y_hat , 'r', label='predicted data')\n",
    "ax.scatter(df.x1 , df.y, label='training data')\n",
    "ax.legend(loc=2)\n",
    "ax.set_xlabel('x1-input data')\n",
    "ax.set_ylabel('y1- data')"
   ]
  },
  {
   "cell_type": "code",
   "execution_count": 128,
   "metadata": {},
   "outputs": [
    {
     "data": {
      "text/plain": [
       "Text(0, 0.5, 'Cost Value')"
      ]
     },
     "execution_count": 128,
     "metadata": {},
     "output_type": "execute_result"
    },
    {
     "data": {
      "image/png": "[encoded data removed]",
      "text/plain": [
       "<Figure size 432x288 with 1 Axes>"
      ]
     },
     "metadata": {
      "needs_background": "light"
     },
     "output_type": "display_data"
    }
   ],
   "source": [
    "fig, ax = plt.subplots()\n",
    "ax.plot(th0_sh , cost_sh ,color='r')\n",
    "\n",
    "ax.set_xlabel('theta 0')\n",
    "ax.set_ylabel('Cost Value')"
   ]
  },
  {
   "cell_type": "code",
   "execution_count": null,
   "metadata": {},
   "outputs": [],
   "source": []
  },
  {
   "cell_type": "code",
   "execution_count": 129,
   "metadata": {},
   "outputs": [
    {
     "data": {
      "text/plain": [
       "Text(0, 0.5, 'Cost Value')"
      ]
     },
     "execution_count": 129,
     "metadata": {},
     "output_type": "execute_result"
    },
    {
     "data": {
      "image/png": "[encoded data removed]",
      "text/plain": [
       "<Figure size 432x288 with 1 Axes>"
      ]
     },
     "metadata": {
      "needs_background": "light"
     },
     "output_type": "display_data"
    }
   ],
   "source": [
    "fig, ax = plt.subplots()\n",
    "ax.plot(th1_sh,cost_sh,color='r')\n",
    "\n",
    "ax.set_xlabel('theta 1')\n",
    "ax.set_ylabel('Cost Value')"
   ]
  },
  {
   "cell_type": "code",
   "execution_count": 131,
   "metadata": {},
   "outputs": [
    {
     "data": {
      "image/png": "[encoded data removed]",
      "text/plain": [
       "<Figure size 432x288 with 1 Axes>"
      ]
     },
     "metadata": {
      "needs_background": "light"
     },
     "output_type": "display_data"
    }
   ],
   "source": [
    "plt.scatter(df_sh.x1,df_sh.y)\n",
    "for i in  hypo_sh:\n",
    "    plt.plot(df_sh.x1,i)"
   ]
  },
  {
   "cell_type": "code",
   "execution_count": null,
   "metadata": {},
   "outputs": [],
   "source": []
  },
  {
   "cell_type": "code",
   "execution_count": null,
   "metadata": {},
   "outputs": [],
   "source": []
  },
  {
   "cell_type": "code",
   "execution_count": null,
   "metadata": {},
   "outputs": [],
   "source": []
  },
  {
   "cell_type": "code",
   "execution_count": null,
   "metadata": {},
   "outputs": [],
   "source": []
  },
  {
   "cell_type": "code",
   "execution_count": null,
   "metadata": {},
   "outputs": [],
   "source": []
  },
  {
   "cell_type": "markdown",
   "metadata": {},
   "source": [
    "## Stochastic GD"
   ]
  },
  {
   "cell_type": "markdown",
   "metadata": {},
   "source": [
    "#### Update the implementation of the Batch GD to beStochastic and rpeat the above plots and evaluations\n",
    "#### You can try different learning rate and see its effect.\n",
    "#### Compare to Batch and Mini-Batch GD\n",
    "### Note: Try once without shuffling the data and once with shuffle and see the effect on the output."
   ]
  },
  {
   "cell_type": "code",
   "execution_count": 148,
   "metadata": {},
   "outputs": [],
   "source": [
    "x = np.linspace(0,20)\n",
    "y=-2*x+1"
   ]
  },
  {
   "cell_type": "code",
   "execution_count": 149,
   "metadata": {},
   "outputs": [
    {
     "data": {
      "text/plain": [
       "array([ 0.        ,  0.40816327,  0.81632653,  1.2244898 ,  1.63265306,\n",
       "        2.04081633,  2.44897959,  2.85714286,  3.26530612,  3.67346939,\n",
       "        4.08163265,  4.48979592,  4.89795918,  5.30612245,  5.71428571,\n",
       "        6.12244898,  6.53061224,  6.93877551,  7.34693878,  7.75510204,\n",
       "        8.16326531,  8.57142857,  8.97959184,  9.3877551 ,  9.79591837,\n",
       "       10.20408163, 10.6122449 , 11.02040816, 11.42857143, 11.83673469,\n",
       "       12.24489796, 12.65306122, 13.06122449, 13.46938776, 13.87755102,\n",
       "       14.28571429, 14.69387755, 15.10204082, 15.51020408, 15.91836735,\n",
       "       16.32653061, 16.73469388, 17.14285714, 17.55102041, 17.95918367,\n",
       "       18.36734694, 18.7755102 , 19.18367347, 19.59183673, 20.        ])"
      ]
     },
     "execution_count": 149,
     "metadata": {},
     "output_type": "execute_result"
    }
   ],
   "source": [
    "x"
   ]
  },
  {
   "cell_type": "code",
   "execution_count": 150,
   "metadata": {},
   "outputs": [
    {
     "data": {
      "text/plain": [
       "array([  1.        ,   0.18367347,  -0.63265306,  -1.44897959,\n",
       "        -2.26530612,  -3.08163265,  -3.89795918,  -4.71428571,\n",
       "        -5.53061224,  -6.34693878,  -7.16326531,  -7.97959184,\n",
       "        -8.79591837,  -9.6122449 , -10.42857143, -11.24489796,\n",
       "       -12.06122449, -12.87755102, -13.69387755, -14.51020408,\n",
       "       -15.32653061, -16.14285714, -16.95918367, -17.7755102 ,\n",
       "       -18.59183673, -19.40816327, -20.2244898 , -21.04081633,\n",
       "       -21.85714286, -22.67346939, -23.48979592, -24.30612245,\n",
       "       -25.12244898, -25.93877551, -26.75510204, -27.57142857,\n",
       "       -28.3877551 , -29.20408163, -30.02040816, -30.83673469,\n",
       "       -31.65306122, -32.46938776, -33.28571429, -34.10204082,\n",
       "       -34.91836735, -35.73469388, -36.55102041, -37.36734694,\n",
       "       -38.18367347, -39.        ])"
      ]
     },
     "execution_count": 150,
     "metadata": {},
     "output_type": "execute_result"
    }
   ],
   "source": [
    "y"
   ]
  },
  {
   "cell_type": "code",
   "execution_count": 151,
   "metadata": {},
   "outputs": [
    {
     "data": {
      "text/html": [
       "<div>\n",
       "<style scoped>\n",
       "    .dataframe tbody tr th:only-of-type {\n",
       "        vertical-align: middle;\n",
       "    }\n",
       "\n",
       "    .dataframe tbody tr th {\n",
       "        vertical-align: top;\n",
       "    }\n",
       "\n",
       "    .dataframe thead th {\n",
       "        text-align: right;\n",
       "    }\n",
       "</style>\n",
       "<table border=\"1\" class=\"dataframe\">\n",
       "  <thead>\n",
       "    <tr style=\"text-align: right;\">\n",
       "      <th></th>\n",
       "      <th>x0</th>\n",
       "      <th>x1</th>\n",
       "      <th>y</th>\n",
       "    </tr>\n",
       "  </thead>\n",
       "  <tbody>\n",
       "    <tr>\n",
       "      <th>1</th>\n",
       "      <td>1</td>\n",
       "      <td>0.408163</td>\n",
       "      <td>0.183673</td>\n",
       "    </tr>\n",
       "    <tr>\n",
       "      <th>3</th>\n",
       "      <td>1</td>\n",
       "      <td>1.224490</td>\n",
       "      <td>-1.448980</td>\n",
       "    </tr>\n",
       "    <tr>\n",
       "      <th>48</th>\n",
       "      <td>1</td>\n",
       "      <td>19.591837</td>\n",
       "      <td>-38.183673</td>\n",
       "    </tr>\n",
       "    <tr>\n",
       "      <th>10</th>\n",
       "      <td>1</td>\n",
       "      <td>4.081633</td>\n",
       "      <td>-7.163265</td>\n",
       "    </tr>\n",
       "    <tr>\n",
       "      <th>42</th>\n",
       "      <td>1</td>\n",
       "      <td>17.142857</td>\n",
       "      <td>-33.285714</td>\n",
       "    </tr>\n",
       "  </tbody>\n",
       "</table>\n",
       "</div>"
      ],
      "text/plain": [
       "    x0         x1          y\n",
       "1    1   0.408163   0.183673\n",
       "3    1   1.224490  -1.448980\n",
       "48   1  19.591837 -38.183673\n",
       "10   1   4.081633  -7.163265\n",
       "42   1  17.142857 -33.285714"
      ]
     },
     "execution_count": 151,
     "metadata": {},
     "output_type": "execute_result"
    }
   ],
   "source": [
    "dict={'x0':1,'x1':x , 'y':y}\n",
    "df_s=pd.DataFrame(dict)\n",
    "df_s= df_s.sample(frac=1)\n",
    "df_s.head()"
   ]
  },
  {
   "cell_type": "code",
   "execution_count": 155,
   "metadata": {},
   "outputs": [],
   "source": [
    "alpha = 0.001\n",
    "itera = 100\n",
    "theta = np.matrix(np.array([0,0]))\n"
   ]
  },
  {
   "cell_type": "code",
   "execution_count": 156,
   "metadata": {},
   "outputs": [],
   "source": [
    "col=df.shape[1]\n",
    "x=np.matrix(df_s.iloc[:,0:col-1])\n",
    "y=np.matrix(df_s.iloc[:,col-1:col])"
   ]
  },
  {
   "cell_type": "code",
   "execution_count": 157,
   "metadata": {},
   "outputs": [
    {
     "data": {
      "text/plain": [
       "matrix([[0, 0]])"
      ]
     },
     "execution_count": 157,
     "metadata": {},
     "output_type": "execute_result"
    }
   ],
   "source": [
    "theta=np.matrix([0,0])\n",
    "theta"
   ]
  },
  {
   "cell_type": "code",
   "execution_count": null,
   "metadata": {},
   "outputs": [],
   "source": []
  },
  {
   "cell_type": "code",
   "execution_count": null,
   "metadata": {},
   "outputs": [],
   "source": []
  },
  {
   "cell_type": "code",
   "execution_count": null,
   "metadata": {},
   "outputs": [],
   "source": []
  },
  {
   "cell_type": "code",
   "execution_count": null,
   "metadata": {},
   "outputs": [],
   "source": [
    "\n"
   ]
  },
  {
   "cell_type": "code",
   "execution_count": 158,
   "metadata": {},
   "outputs": [],
   "source": [
    "def GDCostFunction(xc,yc,thetac):\n",
    "    norm = np.linalg.norm(((xc @ thetac.T)- yc),ord=2)\n",
    "    error=np.power(norm,2)\n",
    "    mse=error/(2*len(xc))\n",
    "    return mse"
   ]
  },
  {
   "cell_type": "code",
   "execution_count": 159,
   "metadata": {},
   "outputs": [],
   "source": [
    "def gradient(X,Y,Theta):\n",
    "    theta_parameters=int(Theta.ravel().shape[1]) \n",
    "    temp = np.matrix(np.zeros(theta.shape))\n",
    "    for j in range(theta_parameters):\n",
    "        error = (X*Theta.T) - Y              # (summation(h(xi) - y ) \n",
    "        t= np.multiply(error,X[:,j])         # (summation(h(xi) - y ) *xi\n",
    "        temp[:,j] = 1/len(X) * np.sum(t)\n",
    "    grad=temp\n",
    "    return grad"
   ]
  },
  {
   "cell_type": "code",
   "execution_count": null,
   "metadata": {},
   "outputs": [],
   "source": []
  },
  {
   "cell_type": "code",
   "execution_count": 160,
   "metadata": {},
   "outputs": [],
   "source": [
    "def Stocastic_GD(x,y,theta,lr,iteration):\n",
    "    \n",
    "    temp = np.matrix(np.zeros(theta.shape))\n",
    "    theta_parameters=int(theta.ravel().shape[1])\n",
    "    cost=[]\n",
    "    th0=[]\n",
    "    th1=[]\n",
    "    h=[]\n",
    "    batch_size=1\n",
    "    \n",
    "    for i in range(iteration):\n",
    "        for j in range(0,len(y),batch_size):\n",
    "            th0.append(theta[:,0])\n",
    "            th1.append(theta[:,1])\n",
    "            h.append(x*theta.T)\n",
    "            x_i=x[j:j+batch_size]\n",
    "            y_i=y[j:j+batch_size]\n",
    "            cost.append(GDCostFunction(x_i,y_i,theta))\n",
    "            temp = theta -lr * gradient(x_i,y_i,theta)\n",
    "            theta=temp\n",
    "            \n",
    "            \n",
    "    return theta,cost,th0,th1,h"
   ]
  },
  {
   "cell_type": "code",
   "execution_count": 161,
   "metadata": {},
   "outputs": [],
   "source": [
    "th_op,cost,th0,th1,hypo = Stocastic_GD(x,y,theta,alpha,itera)\n"
   ]
  },
  {
   "cell_type": "code",
   "execution_count": 162,
   "metadata": {},
   "outputs": [],
   "source": [
    "th0=np.array(th0)\n",
    "th0=th0.ravel()\n",
    "th1=np.array(th1)\n",
    "th1=th1.ravel()"
   ]
  },
  {
   "cell_type": "code",
   "execution_count": 163,
   "metadata": {},
   "outputs": [
    {
     "data": {
      "text/plain": [
       "matrix([[ 0.69470952, -1.97688049]])"
      ]
     },
     "execution_count": 163,
     "metadata": {},
     "output_type": "execute_result"
    }
   ],
   "source": [
    "th_op"
   ]
  },
  {
   "cell_type": "code",
   "execution_count": 164,
   "metadata": {},
   "outputs": [
    {
     "data": {
      "text/plain": [
       "Text(0.5, 1.0, 'Error vs. training Epoc')"
      ]
     },
     "execution_count": 164,
     "metadata": {},
     "output_type": "execute_result"
    },
    {
     "data": {
      "image/png": "[encoded data removed]",
      "text/plain": [
       "<Figure size 432x288 with 1 Axes>"
      ]
     },
     "metadata": {
      "needs_background": "light"
     },
     "output_type": "display_data"
    }
   ],
   "source": [
    "fig,ax = plt.subplots()\n",
    "ax.plot(np.arange(len(cost)), cost ,'r')\n",
    "\n",
    "ax.set_xlabel('Iterations')\n",
    "ax.set_ylabel('Cost Value')\n",
    "ax.set_title('Error vs. training Epoc')"
   ]
  },
  {
   "cell_type": "code",
   "execution_count": 166,
   "metadata": {},
   "outputs": [
    {
     "data": {
      "text/plain": [
       "Text(0, 0.5, 'y1- data')"
      ]
     },
     "execution_count": 166,
     "metadata": {},
     "output_type": "execute_result"
    },
    {
     "data": {
      "image/png": "[encoded data removed]",
      "text/plain": [
       "<Figure size 432x288 with 1 Axes>"
      ]
     },
     "metadata": {
      "needs_background": "light"
     },
     "output_type": "display_data"
    }
   ],
   "source": [
    "y_hat=th_op[0,0] + th_op[0,1]*df_s.x1\n",
    "fig ,ax =plt.subplots()\n",
    "ax.plot(df_s.x1 , y_hat , 'r', label='predicted data')\n",
    "ax.scatter(df_s.x1 , df_s.y, label='training data')\n",
    "ax.legend(loc=2)\n",
    "ax.set_xlabel('x1-input data')\n",
    "ax.set_ylabel('y1- data')"
   ]
  },
  {
   "cell_type": "code",
   "execution_count": 167,
   "metadata": {},
   "outputs": [
    {
     "data": {
      "text/plain": [
       "Text(0, 0.5, 'Cost Value')"
      ]
     },
     "execution_count": 167,
     "metadata": {},
     "output_type": "execute_result"
    },
    {
     "data": {
      "image/png": "[encoded data removed]",
      "text/plain": [
       "<Figure size 432x288 with 1 Axes>"
      ]
     },
     "metadata": {
      "needs_background": "light"
     },
     "output_type": "display_data"
    }
   ],
   "source": [
    "fig,ax = plt.subplots()\n",
    "ax.plot(th1, cost ,'r')\n",
    "\n",
    "ax.set_xlabel('Theta_1')\n",
    "ax.set_ylabel('Cost Value')"
   ]
  },
  {
   "cell_type": "code",
   "execution_count": 168,
   "metadata": {},
   "outputs": [
    {
     "data": {
      "image/png": "[encoded data removed]",
      "text/plain": [
       "<Figure size 432x288 with 1 Axes>"
      ]
     },
     "metadata": {
      "needs_background": "light"
     },
     "output_type": "display_data"
    }
   ],
   "source": [
    "plt.scatter(df_s.x1,df_s.y)\n",
    "for i in  hypo:\n",
    "    plt.plot(df_s.x1,i)"
   ]
  },
  {
   "cell_type": "code",
   "execution_count": null,
   "metadata": {},
   "outputs": [],
   "source": []
  },
  {
   "cell_type": "code",
   "execution_count": 169,
   "metadata": {},
   "outputs": [
    {
     "data": {
      "text/plain": [
       "Text(0, 0.5, 'Cost Value')"
      ]
     },
     "execution_count": 169,
     "metadata": {},
     "output_type": "execute_result"
    },
    {
     "data": {
      "image/png": "[encoded data removed]",
      "text/plain": [
       "<Figure size 432x288 with 1 Axes>"
      ]
     },
     "metadata": {
      "needs_background": "light"
     },
     "output_type": "display_data"
    }
   ],
   "source": [
    "fig,ax = plt.subplots()\n",
    "ax.plot(th1, cost ,'r')\n",
    "\n",
    "ax.set_xlabel('Theta_1')\n",
    "ax.set_ylabel('Cost Value')"
   ]
  },
  {
   "cell_type": "code",
   "execution_count": 173,
   "metadata": {},
   "outputs": [
    {
     "data": {
      "text/plain": [
       "0.9998268108697619"
      ]
     },
     "execution_count": 173,
     "metadata": {},
     "output_type": "execute_result"
    }
   ],
   "source": [
    "r2_score(df_s.y , y_hat)"
   ]
  },
  {
   "cell_type": "code",
   "execution_count": 175,
   "metadata": {},
   "outputs": [
    {
     "data": {
      "text/html": [
       "<div>\n",
       "<style scoped>\n",
       "    .dataframe tbody tr th:only-of-type {\n",
       "        vertical-align: middle;\n",
       "    }\n",
       "\n",
       "    .dataframe tbody tr th {\n",
       "        vertical-align: top;\n",
       "    }\n",
       "\n",
       "    .dataframe thead th {\n",
       "        text-align: right;\n",
       "    }\n",
       "</style>\n",
       "<table border=\"1\" class=\"dataframe\">\n",
       "  <thead>\n",
       "    <tr style=\"text-align: right;\">\n",
       "      <th></th>\n",
       "      <th>x0</th>\n",
       "      <th>x1</th>\n",
       "      <th>y</th>\n",
       "    </tr>\n",
       "  </thead>\n",
       "  <tbody>\n",
       "    <tr>\n",
       "      <th>5</th>\n",
       "      <td>1</td>\n",
       "      <td>2.040816</td>\n",
       "      <td>-3.081633</td>\n",
       "    </tr>\n",
       "    <tr>\n",
       "      <th>37</th>\n",
       "      <td>1</td>\n",
       "      <td>15.102041</td>\n",
       "      <td>-29.204082</td>\n",
       "    </tr>\n",
       "    <tr>\n",
       "      <th>15</th>\n",
       "      <td>1</td>\n",
       "      <td>6.122449</td>\n",
       "      <td>-11.244898</td>\n",
       "    </tr>\n",
       "    <tr>\n",
       "      <th>32</th>\n",
       "      <td>1</td>\n",
       "      <td>13.061224</td>\n",
       "      <td>-25.122449</td>\n",
       "    </tr>\n",
       "    <tr>\n",
       "      <th>36</th>\n",
       "      <td>1</td>\n",
       "      <td>14.693878</td>\n",
       "      <td>-28.387755</td>\n",
       "    </tr>\n",
       "  </tbody>\n",
       "</table>\n",
       "</div>"
      ],
      "text/plain": [
       "    x0         x1          y\n",
       "5    1   2.040816  -3.081633\n",
       "37   1  15.102041 -29.204082\n",
       "15   1   6.122449 -11.244898\n",
       "32   1  13.061224 -25.122449\n",
       "36   1  14.693878 -28.387755"
      ]
     },
     "execution_count": 175,
     "metadata": {},
     "output_type": "execute_result"
    }
   ],
   "source": [
    "df_shu = df_s.sample(frac=1)\n",
    "df_shu.head()"
   ]
  },
  {
   "cell_type": "code",
   "execution_count": 176,
   "metadata": {},
   "outputs": [],
   "source": [
    "col=df.shape[1]\n",
    "x_sh=np.matrix(df_shu.iloc[:,0:col-1])\n",
    "y_sh=np.matrix(df_shu.iloc[:,col-1:col])"
   ]
  },
  {
   "cell_type": "markdown",
   "metadata": {},
   "source": [
    "# with shuffling"
   ]
  },
  {
   "cell_type": "code",
   "execution_count": 201,
   "metadata": {},
   "outputs": [],
   "source": [
    "def Stocastic_GD_sh(x,y,theta,lr,iteration):\n",
    "    \n",
    "    temp = np.matrix(np.zeros(theta.shape))\n",
    "    theta_parameters=int(theta.ravel().shape[1])\n",
    "    cost=[]\n",
    "    th0=[]\n",
    "    th1=[]\n",
    "    h=[]\n",
    "    batch_size=1\n",
    "    \n",
    "    for i in range(iteration):\n",
    "        for j in range(0,len(y),batch_size):\n",
    "            th0.append(theta[:,0])\n",
    "            th1.append(theta[:,1])\n",
    "            h.append(x*theta.T)\n",
    "            x_i=x[j:j+batch_size]\n",
    "            y_i=y[j:j+batch_size]\n",
    "            cost.append(GDCostFunction(x_i,y_i,theta))\n",
    "            temp = theta -lr * gradient(x_i,y_i,theta)\n",
    "            theta=temp\n",
    "            \n",
    "            \n",
    "    return theta,cost,th0,th1,h"
   ]
  },
  {
   "cell_type": "code",
   "execution_count": 202,
   "metadata": {},
   "outputs": [],
   "source": [
    "alpha = 0.001\n",
    "itera = 1000\n"
   ]
  },
  {
   "cell_type": "code",
   "execution_count": 203,
   "metadata": {},
   "outputs": [
    {
     "data": {
      "text/plain": [
       "matrix([[ 0.99999745, -1.9999998 ]])"
      ]
     },
     "execution_count": 203,
     "metadata": {},
     "output_type": "execute_result"
    }
   ],
   "source": [
    "theta_new_Shuf , cost_sh , theta_zero_sh , theta_one_sh , hypothesis_sh = Stocastic_GD_sh(x_sh,y_sh,theta,alpha,itera)\n",
    "theta_new_Shuf"
   ]
  },
  {
   "cell_type": "code",
   "execution_count": null,
   "metadata": {},
   "outputs": [],
   "source": []
  },
  {
   "cell_type": "code",
   "execution_count": null,
   "metadata": {},
   "outputs": [],
   "source": []
  },
  {
   "cell_type": "code",
   "execution_count": null,
   "metadata": {},
   "outputs": [],
   "source": []
  },
  {
   "cell_type": "code",
   "execution_count": 186,
   "metadata": {},
   "outputs": [
    {
     "data": {
      "text/plain": [
       "Text(0.5, 1.0, 'Error vs. training Epoc')"
      ]
     },
     "execution_count": 186,
     "metadata": {},
     "output_type": "execute_result"
    },
    {
     "data": {
      "image/png": "[encoded data removed]",
      "text/plain": [
       "<Figure size 432x288 with 1 Axes>"
      ]
     },
     "metadata": {
      "needs_background": "light"
     },
     "output_type": "display_data"
    }
   ],
   "source": [
    "fig,ax = plt.subplots()\n",
    "ax.plot(np.arange(len(cost_sh)), cost_sh ,'r')\n",
    "\n",
    "ax.set_xlabel('Iterations')\n",
    "ax.set_ylabel('Cost Value')\n",
    "ax.set_title('Error vs. training Epoc')"
   ]
  },
  {
   "cell_type": "code",
   "execution_count": 204,
   "metadata": {},
   "outputs": [
    {
     "data": {
      "text/plain": [
       "Text(0, 0.5, 'y1- data')"
      ]
     },
     "execution_count": 204,
     "metadata": {},
     "output_type": "execute_result"
    },
    {
     "data": {
      "image/png": "[encoded data removed]",
      "text/plain": [
       "<Figure size 432x288 with 1 Axes>"
      ]
     },
     "metadata": {
      "needs_background": "light"
     },
     "output_type": "display_data"
    }
   ],
   "source": [
    "y_hat_sh=theta_new_Shuf[0,0] + theta_new_Shuf[0,1]*df_shu.x1\n",
    "fig ,ax =plt.subplots()\n",
    "ax.plot(df_shu.x1 , y_hat_sh , 'r', label='predicted data')\n",
    "ax.scatter(df_shu.x1 , df_shu.y, label='training data')\n",
    "ax.legend(loc=2)\n",
    "ax.set_xlabel('x1-input data')\n",
    "ax.set_ylabel('y1- data')"
   ]
  },
  {
   "cell_type": "code",
   "execution_count": 205,
   "metadata": {},
   "outputs": [],
   "source": [
    "th_0=np.array(theta_zero_sh)\n",
    "th_0=th0.ravel()\n",
    "th_1=np.array(theta_one_sh)\n",
    "th_1=th1.ravel()"
   ]
  },
  {
   "cell_type": "code",
   "execution_count": 206,
   "metadata": {},
   "outputs": [
    {
     "data": {
      "text/plain": [
       "Text(0, 0.5, 'Cost Value')"
      ]
     },
     "execution_count": 206,
     "metadata": {},
     "output_type": "execute_result"
    },
    {
     "data": {
      "image/png": "[encoded data removed]",
      "text/plain": [
       "<Figure size 432x288 with 1 Axes>"
      ]
     },
     "metadata": {
      "needs_background": "light"
     },
     "output_type": "display_data"
    }
   ],
   "source": [
    "fig,ax = plt.subplots()\n",
    "ax.plot(th_1, cost ,'r')\n",
    "\n",
    "ax.set_xlabel('Theta_1')\n",
    "ax.set_ylabel('Cost Value')"
   ]
  },
  {
   "cell_type": "code",
   "execution_count": 207,
   "metadata": {},
   "outputs": [
    {
     "data": {
      "text/plain": [
       "Text(0, 0.5, 'Cost Value')"
      ]
     },
     "execution_count": 207,
     "metadata": {},
     "output_type": "execute_result"
    },
    {
     "data": {
      "image/png": "[encoded data removed]",
      "text/plain": [
       "<Figure size 432x288 with 1 Axes>"
      ]
     },
     "metadata": {
      "needs_background": "light"
     },
     "output_type": "display_data"
    }
   ],
   "source": [
    "fig,ax = plt.subplots()\n",
    "ax.plot(th_0, cost ,'r')\n",
    "\n",
    "ax.set_xlabel('Theta_0')\n",
    "ax.set_ylabel('Cost Value')"
   ]
  },
  {
   "cell_type": "code",
   "execution_count": 199,
   "metadata": {},
   "outputs": [
    {
     "data": {
      "image/png": "[encoded data removed]",
      "text/plain": [
       "<Figure size 432x288 with 1 Axes>"
      ]
     },
     "metadata": {
      "needs_background": "light"
     },
     "output_type": "display_data"
    }
   ],
   "source": [
    "plt.scatter(df_shu.x1,df_shu.y)\n",
    "for i in  hypothesis_sh:\n",
    "    plt.plot(df_shu.x1,i)"
   ]
  },
  {
   "cell_type": "code",
   "execution_count": 209,
   "metadata": {},
   "outputs": [
    {
     "data": {
      "text/plain": [
       "99.99999999999878"
      ]
     },
     "execution_count": 209,
     "metadata": {},
     "output_type": "execute_result"
    }
   ],
   "source": [
    "r2_score(df_shu.y , y_hat_sh) * 100"
   ]
  },
  {
   "cell_type": "code",
   "execution_count": null,
   "metadata": {},
   "outputs": [],
   "source": []
  },
  {
   "cell_type": "code",
   "execution_count": null,
   "metadata": {},
   "outputs": [],
   "source": []
  },
  {
   "cell_type": "code",
   "execution_count": null,
   "metadata": {},
   "outputs": [],
   "source": []
  }
 ],
 "metadata": {
  "kernelspec": {
   "display_name": "Python 3 (ipykernel)",
   "language": "python",
   "name": "python3"
  },
  "language_info": {
   "codemirror_mode": {
    "name": "ipython",
    "version": 3
   },
   "file_extension": ".py",
   "mimetype": "text/x-python",
   "name": "python",
   "nbconvert_exporter": "python",
   "pygments_lexer": "ipython3",
   "version": "3.9.7"
  }
 },
 "nbformat": 4,
 "nbformat_minor": 4
}
